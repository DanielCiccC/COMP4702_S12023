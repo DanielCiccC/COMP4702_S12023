{
 "cells": [
  {
   "attachments": {},
   "cell_type": "markdown",
   "metadata": {},
   "source": [
    "## COMP4702 Assignment"
   ]
  },
  {
   "attachments": {},
   "cell_type": "markdown",
   "metadata": {},
   "source": [
    "This is the plan:\n",
    "\n",
    "#### Determine the energy of a food given its nutrients\n",
    "\n",
    "Start with a correlation matrix to understand any interesting fields, expecially in regard to the energy field\n",
    "this will be supplemented with a PCA to remove any unnecessary fields\n",
    "\n",
    "#### Next, A gradient Process regression\n",
    "- perform a Gradient Process Regression on the fields determines from the part above - we will investigate the loss and predictions\n",
    "- can used MSE to determine the accuracy of the model\n",
    "- worthwhile to make the point (it is likely it won't be the most accurate)\n",
    "\n",
    "#### lastly, neural networks\n",
    "- Create a number of neural network models to predict the energy of a food, given the nutrients of the food\n",
    "- have reservations of the type of model/best sorts of activation functions that would succeed for this type of problem.\n"
   ]
  },
  {
   "cell_type": "code",
   "execution_count": null,
   "metadata": {},
   "outputs": [],
   "source": [
    "#data storage\n",
    "import pandas as pd \n",
    "import numpy as np\n",
    "\n",
    "#plotting\n",
    "import seaborn as sns\n",
    "import matplotlib.pyplot as plt\n",
    "\n",
    "#machine learning\n",
    "from sklearn.model_selection import train_test_split\n",
    "from sklearn.linear_model import LinearRegression, LogisticRegression\n",
    "from sklearn.preprocessing import PolynomialFeatures\n",
    "from sklearn import preprocessing\n"
   ]
  },
  {
   "attachments": {},
   "cell_type": "markdown",
   "metadata": {},
   "source": [
    "#### Read in the data, perform some preliminary data scrubbing"
   ]
  },
  {
   "cell_type": "code",
   "execution_count": null,
   "metadata": {},
   "outputs": [],
   "source": [
    "test_data = pd.read_csv('ann-test.data', sep=' ', header=None)"
   ]
  }
 ],
 "metadata": {
  "kernelspec": {
   "display_name": "Python 3",
   "language": "python",
   "name": "python3"
  },
  "language_info": {
   "name": "python",
   "version": "3.9.13 (tags/v3.9.13:6de2ca5, May 17 2022, 16:36:42) [MSC v.1929 64 bit (AMD64)]"
  },
  "orig_nbformat": 4,
  "vscode": {
   "interpreter": {
    "hash": "64dcdca0912d309227d3dab03159a984980d23a457298ec56e15486741392df1"
   }
  }
 },
 "nbformat": 4,
 "nbformat_minor": 2
}
