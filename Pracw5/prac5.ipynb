{
 "cells": [
  {
   "cell_type": "code",
   "execution_count": 1,
   "metadata": {},
   "outputs": [],
   "source": [
    "import pandas as pd \n",
    "import numpy as np\n",
    "\n",
    "import seaborn as sns\n",
    "import matplotlib.pyplot as plt\n",
    "from sklearn.model_selection import train_test_split\n",
    "from sklearn.neighbors import KNeighborsClassifier\n",
    "from sklearn.neighbors import KNeighborsRegressor\n",
    "from matplotlib.colors import ListedColormap\n",
    "from sklearn.metrics import classification_report\n",
    "from sklearn.metrics import accuracy_score\n",
    "from sklearn.metrics import mean_squared_error\n",
    "from sklearn.linear_model import LinearRegression, LogisticRegression\n",
    "from sklearn.preprocessing import PolynomialFeatures\n",
    "from sklearn import preprocessing"
   ]
  },
  {
   "attachments": {},
   "cell_type": "markdown",
   "metadata": {},
   "source": [
    "## Q1\n",
    "a) Plot function"
   ]
  },
  {
   "cell_type": "code",
   "execution_count": 8,
   "metadata": {},
   "outputs": [],
   "source": [
    "#import the dataset\n",
    "w3_classif = pd.read_csv('w3classif.csv', header=None)\n",
    "w3_classif = w3_classif.rename(columns={0: \"x1\", 1: \"x2\", 2:'y'})\n",
    "\n",
    "#classify our x and y\n",
    "X = w3_classif[['x1', 'x2']]\n",
    "y = w3_classif['y']\n",
    "\n",
    "#Create a dictionary to store our data\n",
    "sets = {'X_train': [],\n",
    "        'X_test': [],\n",
    "        'y_train': [],\n",
    "        'y_test': []}\n",
    "\n",
    "#save multiple test-train sets\n",
    "for i in range(10): \n",
    "    X_train, X_test, y_train, y_test = train_test_split(X, y, test_size=0.30)\n",
    "    sets['X_train'].append(X_train)\n",
    "    sets['X_test'].append(X_test)\n",
    "    sets['y_train'].append(y_train)\n",
    "    sets['y_test'].append(y_test)"
   ]
  },
  {
   "attachments": {},
   "cell_type": "markdown",
   "metadata": {},
   "source": [
    "## Q2)\n",
    "Calculate the training and test errors over all the datasets"
   ]
  },
  {
   "cell_type": "code",
   "execution_count": 19,
   "metadata": {},
   "outputs": [
    {
     "name": "stdout",
     "output_type": "stream",
     "text": [
      "[0.042, 0.042, 0.033, 0.058, 0.058, 0.025, 0.067, 0.017, 0.058, 0.025]\n",
      "[0.04167, 0.04167, 0.03333, 0.05833, 0.05833, 0.025, 0.06667, 0.01667, 0.05833, 0.025]\n"
     ]
    }
   ],
   "source": [
    "k = 3\n",
    "misclassification = []\n",
    "MSE = []\n",
    "\n",
    "for i in range(10):\n",
    "    \n",
    "    clf = KNeighborsClassifier(k)\n",
    "    y_test = sets['y_test'][i]\n",
    "    y_pred = clf.fit(sets['X_train'][i], sets['y_train'][i]).predict(sets['X_test'][i])\n",
    "    \n",
    "    misclassification.append(round(1 - accuracy_score(y_test, y_pred), 5))\n",
    "    MSE.append(round(mean_squared_error(y_test, y_pred), 3))\n",
    "    \n",
    "    # train_loss = np.mean((clf.predict(X_train2.to_numpy().reshape(-1,1)) - y_train2) ** 2)\n",
    "print(MSE)\n",
    "print(f\"mean: \")\n",
    "print(misclassification)"
   ]
  },
  {
   "attachments": {},
   "cell_type": "markdown",
   "metadata": {},
   "source": [
    "plot the test loss and train loss"
   ]
  }
 ],
 "metadata": {
  "kernelspec": {
   "display_name": "Python 3",
   "language": "python",
   "name": "python3"
  },
  "language_info": {
   "codemirror_mode": {
    "name": "ipython",
    "version": 3
   },
   "file_extension": ".py",
   "mimetype": "text/x-python",
   "name": "python",
   "nbconvert_exporter": "python",
   "pygments_lexer": "ipython3",
   "version": "3.10.10"
  },
  "orig_nbformat": 4,
  "vscode": {
   "interpreter": {
    "hash": "64dcdca0912d309227d3dab03159a984980d23a457298ec56e15486741392df1"
   }
  }
 },
 "nbformat": 4,
 "nbformat_minor": 2
}
