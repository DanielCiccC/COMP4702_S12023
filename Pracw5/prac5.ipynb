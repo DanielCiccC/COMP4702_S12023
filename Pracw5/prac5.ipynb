{
 "cells": [
  {
   "cell_type": "code",
   "execution_count": 2,
   "metadata": {},
   "outputs": [],
   "source": [
    "import pandas as pd \n",
    "import numpy as np\n",
    "\n",
    "import seaborn as sns\n",
    "import matplotlib.pyplot as plt\n",
    "from sklearn.model_selection import train_test_split\n",
    "from sklearn.neighbors import KNeighborsClassifier\n",
    "from sklearn.neighbors import KNeighborsRegressor\n",
    "from matplotlib.colors import ListedColormap\n",
    "from sklearn.metrics import classification_report\n",
    "from sklearn.metrics import accuracy_score\n",
    "from sklearn.metrics import mean_squared_error\n",
    "from sklearn.linear_model import LinearRegression, LogisticRegression\n",
    "from sklearn.preprocessing import PolynomialFeatures\n",
    "from sklearn import preprocessing\n",
    "from sklearn.model_selection import cross_val_score"
   ]
  },
  {
   "attachments": {},
   "cell_type": "markdown",
   "metadata": {},
   "source": [
    "## Q1\n",
    "a) Plot function"
   ]
  },
  {
   "cell_type": "code",
   "execution_count": 3,
   "metadata": {},
   "outputs": [],
   "source": [
    "#import the dataset\n",
    "w3_classif = pd.read_csv('w3classif.csv', header=None)\n",
    "w3_classif = w3_classif.rename(columns={0: \"x1\", 1: \"x2\", 2:'y'})\n",
    "\n",
    "#classify our x and y\n",
    "X = w3_classif[['x1', 'x2']]\n",
    "y = w3_classif['y']\n",
    "\n",
    "#Create a dictionary to store our data\n",
    "\n",
    "#save multiple test-train sets\n",
    "def testing(split_pct):\n",
    "\n",
    "        sets = {'X_train': [],\n",
    "        'X_test': [],\n",
    "        'y_train': [],\n",
    "        'y_test': []}\n",
    "\n",
    "        for i in range(10): \n",
    "                X_train, X_test, y_train, y_test = train_test_split(X, y, test_size=split_pct)\n",
    "                sets['X_train'].append(X_train)\n",
    "                sets['X_test'].append(X_test)\n",
    "                sets['y_train'].append(y_train)\n",
    "                sets['y_test'].append(y_test)\n",
    "        return sets\n",
    "\n",
    "sets = testing(0.3)"
   ]
  },
  {
   "attachments": {},
   "cell_type": "markdown",
   "metadata": {},
   "source": [
    "## Q2)\n",
    "Calculate the training and test errors over all the datasets"
   ]
  },
  {
   "cell_type": "code",
   "execution_count": 21,
   "metadata": {},
   "outputs": [
    {
     "name": "stdout",
     "output_type": "stream",
     "text": [
      "average mean squared error: 0.039166\n",
      "average misclassification rate: 0.039166\n"
     ]
    }
   ],
   "source": [
    "def accuracy_scores(k, sets):    \n",
    "    misclassif_test_10 = []\n",
    "    misclassif_train_10 = []\n",
    "    MSE_train_10 = []\n",
    "    MSE_test_10 = []\n",
    "\n",
    "    for i in range(10):\n",
    "        \n",
    "        clf = KNeighborsClassifier(k).fit(sets['X_train'][i], sets['y_train'][i])\n",
    "\n",
    "        y_test = sets['y_test'][i]\n",
    "        y_train = sets['y_train'][i]\n",
    "        y_pred_test = clf.predict(sets['X_test'][i])\n",
    "        y_pred_train = clf.predict(sets['X_train'][i])\n",
    "        \n",
    "        misclassif_test_10.append(round(1 - accuracy_score(y_test, y_pred_test), 5))\n",
    "        misclassif_train_10.append(round(1 - accuracy_score(y_train, y_pred_train), 5))\n",
    "        MSE_test_10.append(round(np.mean((y_pred_test - y_test) ** 2), 5))\n",
    "        MSE_train_10.append(round(np.mean((y_train - y_pred_train) ** 2), 5))\n",
    "        \n",
    "        # train_loss = np.mean((clf.predict(X_train2.to_numpy().reshape(-1,1)) - y_train2) ** 2)\n",
    "    return MSE_test_10, misclassif_test_10, MSE_train_10, misclassif_train_10\n",
    "#observe that these are both the same\n",
    "\n",
    "MSE_test_10, misclassif_test_10, MSE_train_10, misclassif_train_10 = accuracy_scores(3, sets)\n",
    "print(f\"average mean squared error: {np.average(MSE_test_10)}\")\n",
    "print(f\"average misclassification rate: {np.average(misclassif_test_10)}\")"
   ]
  },
  {
   "attachments": {},
   "cell_type": "markdown",
   "metadata": {},
   "source": [
    "plot the test loss and train loss"
   ]
  },
  {
   "cell_type": "code",
   "execution_count": 22,
   "metadata": {},
   "outputs": [
    {
     "data": {
      "image/png": "[encoded data removed]",
      "text/plain": [
       "<Figure size 640x480 with 1 Axes>"
      ]
     },
     "metadata": {},
     "output_type": "display_data"
    }
   ],
   "source": [
    "classification = pd.DataFrame(misclassif_test_10, columns=['MSE'])\n",
    "classification = classification.reset_index() #add index\n",
    "classification['index'] = classification['index'] + 1\n",
    "\n",
    "sns.scatterplot(data=classification, x='index', y='MSE')\n",
    "plt.xlabel(\"number trial\")\n",
    "plt.show()\n"
   ]
  },
  {
   "attachments": {},
   "cell_type": "markdown",
   "metadata": {},
   "source": [
    "## Q3 \n",
    "#### Repeat Q1 and Q2 but with a different split - both 50/50 and 90/10"
   ]
  },
  {
   "cell_type": "code",
   "execution_count": 24,
   "metadata": {},
   "outputs": [
    {
     "name": "stdout",
     "output_type": "stream",
     "text": [
      "50/50 split:\n",
      "[0.04, 0.055, 0.09, 0.04, 0.045, 0.035, 0.05, 0.035, 0.045, 0.04]\n",
      "average mean squared error: 0.0475\n",
      "90/10 split:\n",
      "[0.04722, 0.04722, 0.05556, 0.075, 0.04444, 0.03889, 0.05, 0.04722, 0.03611, 0.04444]\n",
      "average mean squared error: 0.048609999999999993\n"
     ]
    }
   ],
   "source": [
    "sets_50_50 = testing(0.50)\n",
    "sets_90_10 = testing(0.90)\n",
    "\n",
    "MSE_test_5050, misclassif_test_5050, MSE_train_5050, misclassif_train_5050 = accuracy_scores(3, sets_50_50)\n",
    "\n",
    "print(\"50/50 split:\")\n",
    "print(MSE_test_5050)\n",
    "print(f\"average mean squared error: {np.average(MSE_test_5050)}\")\n",
    "\n",
    "MSE_test_9010, misclassif_test_9010, MSE_train_9010, misclassif_train_9010 = accuracy_scores(3, sets_90_10)\n",
    "\n",
    "print(\"90/10 split:\")\n",
    "print(MSE_test_9010)\n",
    "print(f\"average mean squared error: {np.average(MSE_test_9010)}\")\n",
    "\n",
    "#ans: it seems that the 50/50 split is about the same as the 30/70, but the 90/10 has larger \n",
    "#misclassification errors"
   ]
  },
  {
   "attachments": {},
   "cell_type": "markdown",
   "metadata": {},
   "source": [
    "## Q4) \n",
    "Calculate the standard deviation of your training and test error values over the 10 trials from Q2 and Q3"
   ]
  },
  {
   "cell_type": "code",
   "execution_count": 37,
   "metadata": {},
   "outputs": [
    {
     "name": "stdout",
     "output_type": "stream",
     "text": [
      "standard deviation of the 30% testing data split: 0.018\n",
      "standard deviation of the 50% testing data split: 0.015\n",
      "standard deviation of the 90% testing data split: 0.01\n",
      "standard deviation of the training data with a 30/70 split: 0.006\n",
      "standard deviation of the training data with a 50/50 split: 0.01\n",
      "standard deviation of the training data with a 90/10 split: 0.021\n",
      "MEAN of the 30% testing data split: 0.039\n",
      "MEAN of the 50% testing data split: 0.048\n",
      "MEAN of the 90% testing data split: 0.049\n",
      "MEAN of the training data with a 30/70 split: 0.028\n",
      "MEAN of the training data with a 50/50 split: 0.026\n",
      "MEAN of the training data with a 90/10 split: 0.028\n"
     ]
    }
   ],
   "source": [
    "#also use the cross validation score:\n",
    "print(f\"standard deviation of the 30% testing data split: {round(np.asarray(misclassif_test_10).std(), 3)}\")\n",
    "print(f\"standard deviation of the 50% testing data split: {round(np.asarray(MSE_test_5050).std(), 3)}\")\n",
    "print(f\"standard deviation of the 90% testing data split: {round(np.asarray(MSE_test_9010).std(), 3)}\")\n",
    "print(f\"standard deviation of the training data with a 30/70 split: {round(np.asarray(misclassif_train_10).std(), 3)}\")\n",
    "print(f\"standard deviation of the training data with a 50/50 split: {round(np.asarray(MSE_train_5050).std(), 3)}\")\n",
    "print(f\"standard deviation of the training data with a 90/10 split: {round(np.asarray(MSE_train_9010).std(), 3)}\")\n",
    "\n",
    "print(f\"MEAN of the 30% testing data split: {round(np.asarray(misclassif_test_10).mean(), 3)}\")\n",
    "print(f\"MEAN of the 50% testing data split: {round(np.asarray(MSE_test_5050).mean(), 3)}\")\n",
    "print(f\"MEAN of the 90% testing data split: {round(np.asarray(MSE_test_9010).mean(), 3)}\")\n",
    "print(f\"MEAN of the training data with a 30/70 split: {round(np.asarray(misclassif_train_10).mean(), 3)}\")\n",
    "print(f\"MEAN of the training data with a 50/50 split: {round(np.asarray(MSE_train_5050).mean(), 3)}\")\n",
    "print(f\"MEAN of the training data with a 90/10 split: {round(np.asarray(MSE_train_9010).mean(), 3)}\")"
   ]
  },
  {
   "attachments": {
    "image.png": {
     "image/png": "[encoded data removed]"
    }
   },
   "cell_type": "markdown",
   "metadata": {},
   "source": [
    "The standard deviation for the testing data is greater for the 30/70 split, but the standard deviation for the training data prediction is also significantly lower compared to the 50/50 split.\n",
    "\n",
    "This follows what was outlined in the textbook; as the proportion of training data increases, the error of the training data also increases (due to not being able to fit all the data as well to the model) but the stddev of the test error decreases as the training proportion increases\n",
    "\n",
    "![image.png](attachment:image.png)"
   ]
  },
  {
   "attachments": {},
   "cell_type": "markdown",
   "metadata": {},
   "source": [
    "## Q5) Perform a 10-fold cross validation using the model and original dataset\n",
    "observe the mean and standard devaitions of the cross validation error"
   ]
  },
  {
   "cell_type": "code",
   "execution_count": 34,
   "metadata": {},
   "outputs": [
    {
     "name": "stdout",
     "output_type": "stream",
     "text": [
      "[0.95  0.975 0.95  1.    0.925 1.    1.    0.925 0.95  0.9  ]\n",
      "Std of scores: 0.0336\n",
      "mean of scores: 0.9575\n"
     ]
    }
   ],
   "source": [
    "from sklearn.model_selection import cross_val_score\n",
    "\n",
    "clf = KNeighborsClassifier(3)\n",
    "\n",
    "scores = cross_val_score(clf, X, y, cv=10)\n",
    "\n",
    "print(scores)\n",
    "print(f\"Std of scores: {round(np.asarray(scores).std(), 4)}\")\n",
    "print(f\"mean of scores: {round(np.asarray(scores).mean(), 4)}\")"
   ]
  }
 ],
 "metadata": {
  "kernelspec": {
   "display_name": "Python 3",
   "language": "python",
   "name": "python3"
  },
  "language_info": {
   "codemirror_mode": {
    "name": "ipython",
    "version": 3
   },
   "file_extension": ".py",
   "mimetype": "text/x-python",
   "name": "python",
   "nbconvert_exporter": "python",
   "pygments_lexer": "ipython3",
   "version": "3.9.13 (tags/v3.9.13:6de2ca5, May 17 2022, 16:36:42) [MSC v.1929 64 bit (AMD64)]"
  },
  "orig_nbformat": 4,
  "vscode": {
   "interpreter": {
    "hash": "64dcdca0912d309227d3dab03159a984980d23a457298ec56e15486741392df1"
   }
  }
 },
 "nbformat": 4,
 "nbformat_minor": 2
}
